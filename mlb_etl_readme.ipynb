{
 "cells": [
  {
   "cell_type": "markdown",
   "metadata": {},
   "source": [
    "# MLB ETL#\n",
    "Using the ETL process, Major League Baseball information is going to be stored in a database. We are going to take a look at player statistics, salaries, and team payrolls.  Using a postgres database and a few tables based on the following sources:\n",
    "\n",
    "### EXTRACT###\n",
    "\n",
    "-Player Salaries\n",
    "    -[a csv file that I don't know how to embed yet] (https://download.data.world/file_download/natereed/baseball-salaries/salaries.csv)\n",
    "    \n",
    "-Player Stats\n",
    "    -https://www.kaggle.com/open-source-sports/baseball-databank\n",
    " \n",
    "-Team payroll and records\n",
    "    -http://www.thebaseballcube.com/topics/payrolls/#:~:text=Payrolls%20by%20Year%20%20%20Year%20%20,%20%20816%20%2010%20more%20rows%20\n",
    "\n",
    "\n",
    "### TRANSFORMATION###\n",
    "\n",
    "The database provided by Kaggle has an extensive list of player and game data going back as far as 1871. For this project we limited the data to 15 years. The year 2000 to 2015, 2015 being the last data that was entered.\n",
    "\n",
    "Multiple CSV where merged and manipulated within Python to gather information on player salaries, hits, runs, team wins and losses. Information that was not germane to this analyst were drop. Post-season information was not used, as well has pitching and fielding information.\n",
    "Here is a list of CSV that where not used.\n",
    "- AllstarFull\n",
    "- AwardsManagers\n",
    "- AwardsPlayers\n",
    "- AwardsSharesManagers\n",
    "- AwardsSharPlayers\n",
    "- BattingPost -Postseason batting information\n",
    "- Fielding\n",
    "- FieldingOF\n",
    "- HallOfFame\n",
    "- Managers\n",
    "- ManagersHalf -1981 Baseball strike year. Only played half season\n",
    "- Pitching\n",
    "- PitchingPost\n",
    "- TeamsHalf -1981 Baseball strike year. Only played half season\n",
    "\n",
    "### LOAD###\n",
    "The data gathered and reduced was put into a Postgres retlational databses with 4 tables. A table for player statistics. a table of franchise information, a table for player salaries, and a table with a combination of information from the previous tables and other sources."
   ]
  }
 ],
 "metadata": {
  "kernelspec": {
   "display_name": "Python 3",
   "language": "python",
   "name": "python3"
  },
  "language_info": {
   "codemirror_mode": {
    "name": "ipython",
    "version": 3
   },
   "file_extension": ".py",
   "mimetype": "text/x-python",
   "name": "python",
   "nbconvert_exporter": "python",
   "pygments_lexer": "ipython3",
   "version": "3.7.8"
  }
 },
 "nbformat": 4,
 "nbformat_minor": 4
}
