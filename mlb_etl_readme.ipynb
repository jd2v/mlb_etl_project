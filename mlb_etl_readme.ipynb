{
 "cells": [
  {
   "cell_type": "markdown",
   "metadata": {},
   "source": [
    "# MLB ETL\n",
    "We are going to take a look at player statistics, salaries, and team payrolls. Using a postgres database and a few tables based on the following sources:\n",
    "-Player Salaries\n",
    "    -a csv file that I don't know how to embed yet.\n",
    "    \n",
    "-Player Stats\n",
    "    -https://www.kaggle.com/open-source-sports/baseball-databank\n",
    " \n",
    "-Team payroll and records\n",
    "    -http://www.thebaseballcube.com/topics/payrolls/#:~:text=Payrolls%20by%20Year%20%20%20Year%20%20,%20%20816%20%2010%20more%20rows%20"
   ]
  },
  {
   "cell_type": "markdown",
   "metadata": {},
   "source": [
    "#### The following CSVs were **not** used in this project\n",
    "\n",
    "- AllstarFull\n",
    "- AwardsManagers\n",
    "- AwardsPlayers\n",
    "- AwardsSharesManagers\n",
    "- AwardsSharPlayers\n",
    "- BattingPost -Postseason batting information\n",
    "- Fielding\n",
    "- FieldingOF\n",
    "- HallOfFame\n",
    "- Managers\n",
    "- ManagersHalf -1981 Baseball strike year. Only played half season\n",
    "- Pitching\n",
    "- PitchingPost\n",
    "- TeamsHalf -1981 Baseball strike year. Only played half season\n"
   ]
  }
 ],
 "metadata": {
  "kernelspec": {
   "display_name": "Python 3",
   "language": "python",
   "name": "python3"
  },
  "language_info": {
   "codemirror_mode": {
    "name": "ipython",
    "version": 3
   },
   "file_extension": ".py",
   "mimetype": "text/x-python",
   "name": "python",
   "nbconvert_exporter": "python",
   "pygments_lexer": "ipython3",
   "version": "3.7.8"
  }
 },
 "nbformat": 4,
 "nbformat_minor": 4
}
